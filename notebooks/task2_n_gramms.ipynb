{
 "cells": [
  {
   "cell_type": "markdown",
   "id": "bbc239ea",
   "metadata": {},
   "source": [
    "# N-gramms models\n",
    "-  is just a sequence of N consecutive words (or characters) in the text.\n",
    "\n",
    "Help to model the language: predict which word can be next, based on previous ones.\n"
   ]
  },
  {
   "cell_type": "code",
   "execution_count": 20,
   "id": "d543100e",
   "metadata": {},
   "outputs": [],
   "source": [
    "#from pprint import pprint\n",
    "import math\n",
    "import os # Operating System - for work with files and folders\n",
    "import spacy\n",
    "from collections import Counter, defaultdict\n",
    "\n",
    "## Resources\n",
    "## n-gram model: https://github.com/joshualoehr/ngram-language-model/tree/master"
   ]
  },
  {
   "cell_type": "code",
   "execution_count": 11,
   "id": "3866e508",
   "metadata": {},
   "outputs": [],
   "source": [
    "nlp = spacy.load(\"en_core_web_sm\")"
   ]
  },
  {
   "cell_type": "code",
   "execution_count": null,
   "id": "878ef88f",
   "metadata": {},
   "outputs": [
    {
     "name": "stdout",
     "output_type": "stream",
     "text": [
      "Mistress Rachel Lynde lived just where the Avonlea main road dipped down into a little hollow, fringed with alders and ladies' eardrops and traversed by a brook that had its source away back in the woods of the old Cuthbert place; it was reputed to be an intricate, headlong brook in its earlier course through those woods, with dark secrets of pool and cascade; but by the time it reached Lynde's Hollow it was a quiet, well-conducted little stream, for not even a brook could run past Mistress Rach\n"
     ]
    }
   ],
   "source": [
    "# read the text (eng_Anne_full_abbr.txt)\n",
    "base_path = os.getcwd()\n",
    "file_path = os.path.abspath(os.path.join(base_path, \"..\", \"data\", \"without_chap_and_title\", \"eng_Anne_full_abbr.txt\"))\n",
    "text = open(file_path, encoding=\"utf-8\").read()\n",
    "\n",
    "print(text[0:500])"
   ]
  },
  {
   "cell_type": "code",
   "execution_count": null,
   "id": "3129a403",
   "metadata": {},
   "outputs": [],
   "source": [
    "# preparing\n",
    "SOS = \"<s>\"\n",
    "EOS = \"</s>\"\n",
    "UNK = \"<UNK>\""
   ]
  },
  {
   "cell_type": "code",
   "execution_count": 14,
   "id": "52887274",
   "metadata": {},
   "outputs": [],
   "source": [
    "def tokenize_sentences(text):\n",
    "    doc = nlp(text)\n",
    "    return [f\"{SOS} {sent.text.strip()} {EOS}\" for sent in doc.sents]\n",
    "\n",
    "def replace_singletons(tokens):\n",
    "    freq = Counter(tokens)\n",
    "    return [t if freq[t] > 1 else UNK for t in tokens]\n",
    "\n",
    "def preprocess(text):\n",
    "    sentences = tokenize_sentences(text)\n",
    "    tokens = ' '.join(sentences).split()\n",
    "    return replace_singletons(tokens)"
   ]
  },
  {
   "cell_type": "code",
   "execution_count": 15,
   "id": "46dec380",
   "metadata": {},
   "outputs": [],
   "source": [
    "tokens = preprocess(text)\n",
    "vocab = Counter(tokens)\n",
    "V = len(vocab)"
   ]
  },
  {
   "cell_type": "code",
   "execution_count": null,
   "id": "1f532b6c",
   "metadata": {},
   "outputs": [],
   "source": [
    "# сount unigrams and bigrams\n",
    "unigrams_freq = Counter(tokens)\n",
    "bigrams = zip(tokens[:-1], tokens[1:])\n",
    "bigrams_freq = Counter(bigrams)"
   ]
  },
  {
   "cell_type": "code",
   "execution_count": null,
   "id": "9a1c5f30",
   "metadata": {},
   "outputs": [],
   "source": [
    "# calculate logarithmic probabilities with add-one smoothing\n",
    "k = 1\n",
    "probs = {}\n",
    "for bigram, count in bigrams_freq.items():\n",
    "    prev = bigram[0]\n",
    "    prev_count = unigrams_freq[prev]\n",
    "    probs[bigram] = -math.log((count + k) / (prev_count + k * V))"
   ]
  },
  {
   "cell_type": "code",
   "execution_count": null,
   "id": "9eb79635",
   "metadata": {},
   "outputs": [
    {
     "name": "stdout",
     "output_type": "stream",
     "text": [
      "Top 10 bigrams with log-probs:\n",
      "('<s>', 'Mistress') 4.8145\n",
      "('Mistress', 'Rachel') 4.813\n",
      "('Rachel', 'Lynde') 6.4304\n",
      "('Lynde', 'lived') 7.9422\n",
      "('lived', 'just') 7.9273\n",
      "('just', 'where') 7.9804\n",
      "('where', 'the') 6.0652\n",
      "('the', 'Avonlea') 6.4855\n",
      "('Avonlea', 'main') 7.9363\n",
      "('main', 'road') 6.6724\n",
      "('road', 'dipped') 7.9288\n",
      "('dipped', 'down') 7.9241\n",
      "('down', 'into') 7.0416\n",
      "('into', 'a') 5.8204\n",
      "('a', 'little') 4.4217\n",
      "('little', 'hollow,') 7.9732\n",
      "('hollow,', 'fringed') 7.9244\n",
      "('fringed', 'with') 7.2313\n",
      "('with', '<UNK>') 4.6677\n",
      "('<UNK>', 'and') 3.2972\n",
      "('and', \"ladies'\") 8.3645\n",
      "(\"ladies'\", '<UNK>') 7.2311\n",
      "('and', '<UNK>') 2.9777\n",
      "('<UNK>', 'by') 6.1126\n",
      "('by', 'a') 5.6128\n",
      "('a', 'brook') 6.7463\n",
      "('brook', 'that') 7.5233\n",
      "('that', 'had') 6.8521\n",
      "('had', 'its') 8.0513\n",
      "('its', '<UNK>') 5.5388\n",
      "('<UNK>', 'away') 7.9043\n",
      "('away', 'back') 7.2421\n",
      "('back', 'in') 6.4431\n",
      "('in', 'the') 2.8581\n",
      "('the', 'woods') 6.6397\n",
      "('woods', 'of') 7.9268\n",
      "('of', 'the') 3.1861\n",
      "('the', 'old') 6.08\n",
      "('old', 'Cuthbert') 7.5335\n",
      "('Cuthbert', '<UNK>') 7.5233\n",
      "('<UNK>', 'it') 5.3241\n",
      "('it', 'was') 3.6581\n",
      "('was', '<UNK>') 4.0439\n",
      "('<UNK>', 'to') 4.5098\n",
      "('to', 'be') 3.3241\n",
      "('be', 'an') 7.3639\n",
      "('an', '<UNK>') 4.7634\n",
      "('<UNK>', '<UNK>') 3.0337\n",
      "('<UNK>', 'brook') 8.8206\n",
      "('brook', 'in') 7.9288\n",
      "('in', 'its') 6.5394\n",
      "('<UNK>', 'course') 8.1275\n",
      "('course', 'through') 7.9322\n",
      "('through', 'those') 7.5367\n",
      "('those', 'woods,') 7.9347\n",
      "('woods,', 'with') 7.9252\n",
      "('with', 'dark') 8.0521\n",
      "('dark', 'secrets') 7.9288\n",
      "('secrets', 'of') 7.9241\n",
      "('of', 'pool') 8.2132\n",
      "('pool', 'and') 7.9241\n",
      "('<UNK>', 'but') 4.6386\n",
      "('but', 'by') 7.9978\n",
      "('by', 'the') 4.4984\n",
      "('the', 'time') 5.461\n",
      "('time', 'it') 7.2526\n",
      "('it', 'reached') 7.7012\n",
      "('reached', \"Lynde's\") 7.9266\n",
      "(\"Lynde's\", '<UNK>') 6.8282\n",
      "('was', 'a') 3.7377\n",
      "('a', 'quiet,') 8.2504\n",
      "('quiet,', '<UNK>') 7.5186\n",
      "('<UNK>', 'little') 6.8747\n",
      "('little', '<UNK>') 4.8162\n",
      "('<UNK>', 'for') 5.0949\n",
      "('for', 'not') 8.0441\n",
      "('not', 'even') 6.1166\n",
      "('even', 'a') 7.0218\n",
      "('brook', 'could') 7.9288\n",
      "('could', 'run') 7.5552\n",
      "('run', 'past') 7.9298\n",
      "('past', 'Mistress') 7.9264\n",
      "('Rachel', \"Lynde's\") 7.529\n",
      "(\"Lynde's\", 'door') 7.9268\n",
      "('door', 'without') 7.9284\n",
      "('without', 'due') 7.9361\n",
      "('due', 'regard') 7.9252\n",
      "('regard', 'for') 7.9241\n",
      "('for', '<UNK>') 4.767\n",
      "('it', 'probably') 8.1067\n",
      "('probably', 'was') 7.9266\n",
      "('was', 'conscious') 7.222\n",
      "('conscious', 'that') 7.0089\n",
      "('that', 'Mistress') 7.0062\n",
      "('Rachel', 'was') 6.6818\n",
      "('was', 'sitting') 6.1234\n",
      "('sitting', 'at') 7.2369\n",
      "('at', 'her') 5.4593\n",
      "('her', 'window,') 7.702\n",
      "('window,', 'keeping') 7.9257\n"
     ]
    }
   ],
   "source": [
    "print(\"Top 100 bigrams with log-probs:\")\n",
    "for bg, p in list(probs.items())[:100]:\n",
    "    print(bg, round(p, 4))"
   ]
  }
 ],
 "metadata": {
  "kernelspec": {
   "display_name": "nlp_env",
   "language": "python",
   "name": "python3"
  },
  "language_info": {
   "codemirror_mode": {
    "name": "ipython",
    "version": 3
   },
   "file_extension": ".py",
   "mimetype": "text/x-python",
   "name": "python",
   "nbconvert_exporter": "python",
   "pygments_lexer": "ipython3",
   "version": "3.11.11"
  }
 },
 "nbformat": 4,
 "nbformat_minor": 5
}
